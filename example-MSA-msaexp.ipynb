{
 "cells": [
  {
   "cell_type": "markdown",
   "metadata": {},
   "source": [
    "# This notebook shows some examples to play with MSA file.\n",
    "\n",
    "Using `msaexp` package."
   ]
  },
  {
   "cell_type": "markdown",
   "metadata": {},
   "source": [
    "## Get summary table from `_msa.fits` file."
   ]
  },
  {
   "cell_type": "code",
   "execution_count": 1,
   "metadata": {},
   "outputs": [
    {
     "data": {
      "text/html": [
       "<div><i>GTable length=201</i>\n",
       "<table id=\"table4593016592\" class=\"table-striped table-bordered table-condensed\">\n",
       "<thead><tr><th>source_id</th><th>ra</th><th>dec</th><th>nexp</th><th>Exp1</th><th>Exp2</th><th>Exp3</th></tr></thead>\n",
       "<thead><tr><th>int32</th><th>float64</th><th>float64</th><th>int64</th><th>str3</th><th>str3</th><th>str3</th></tr></thead>\n",
       "<tr><td>-70</td><td>53.116112</td><td>-27.782006</td><td>3</td><td>-o-</td><td>o--</td><td>--o</td></tr>\n",
       "<tr><td>-69</td><td>53.115243</td><td>-27.795077</td><td>3</td><td>-o-</td><td>o--</td><td>--o</td></tr>\n",
       "<tr><td>-68</td><td>53.112371</td><td>-27.827977</td><td>3</td><td>-o-</td><td>o--</td><td>--o</td></tr>\n",
       "<tr><td>-67</td><td>53.115348</td><td>-27.795815</td><td>3</td><td>-o-</td><td>o--</td><td>--o</td></tr>\n",
       "<tr><td>-66</td><td>53.114818</td><td>-27.801942</td><td>3</td><td>-o-</td><td>o--</td><td>--o</td></tr>\n",
       "<tr><td>-65</td><td>53.112631</td><td>-27.826948</td><td>3</td><td>-o-</td><td>o--</td><td>--o</td></tr>\n",
       "<tr><td>-64</td><td>53.112695</td><td>-27.832028</td><td>3</td><td>-o-</td><td>o--</td><td>--o</td></tr>\n",
       "<tr><td>-63</td><td>53.113053</td><td>-27.828911</td><td>3</td><td>-o-</td><td>o--</td><td>--o</td></tr>\n",
       "<tr><td>-62</td><td>53.113703</td><td>-27.823436</td><td>3</td><td>-o-</td><td>o--</td><td>--o</td></tr>\n",
       "<tr><td>-61</td><td>53.112888</td><td>-27.835632</td><td>3</td><td>-o-</td><td>o--</td><td>--o</td></tr>\n",
       "<tr><td>...</td><td>...</td><td>...</td><td>...</td><td>...</td><td>...</td><td>...</td></tr>\n",
       "<tr><td>2023007</td><td>53.182342</td><td>-27.783406</td><td>3</td><td>---</td><td>---</td><td>---</td></tr>\n",
       "<tr><td>2023009</td><td>53.167601</td><td>-27.830414</td><td>3</td><td>-o-</td><td>o--</td><td>--o</td></tr>\n",
       "<tr><td>2023010</td><td>53.164408</td><td>-27.838797</td><td>3</td><td>-o-</td><td>o--</td><td>--o</td></tr>\n",
       "<tr><td>2023015</td><td>53.165332</td><td>-27.826838</td><td>3</td><td>-o-</td><td>o--</td><td>--o</td></tr>\n",
       "<tr><td>2023022</td><td>53.122990</td><td>-27.821135</td><td>3</td><td>--</td><td>-</td><td>--o</td></tr>\n",
       "<tr><td>2023024</td><td>53.134843</td><td>-27.789041</td><td>3</td><td>-o-</td><td>o--</td><td>--o</td></tr>\n",
       "<tr><td>2023026</td><td>53.135280</td><td>-27.814521</td><td>3</td><td>-o-</td><td>o--</td><td>--o</td></tr>\n",
       "<tr><td>2023027</td><td>53.134852</td><td>-27.820901</td><td>3</td><td>-o-</td><td>o--</td><td>--o</td></tr>\n",
       "<tr><td>2023029</td><td>53.132112</td><td>-27.796808</td><td>3</td><td>-o-</td><td>o--</td><td>--o</td></tr>\n",
       "<tr><td>2023050</td><td>53.134192</td><td>-27.816431</td><td>3</td><td>--</td><td>-</td><td>--o</td></tr>\n",
       "</table></div>"
      ],
      "text/plain": [
       "<GTable length=201>\n",
       "source_id     ra       dec      nexp Exp1 Exp2 Exp3\n",
       "  int32    float64   float64   int64 str3 str3 str3\n",
       "--------- --------- ---------- ----- ---- ---- ----\n",
       "      -70 53.116112 -27.782006     3  -o-  o--  --o\n",
       "      -69 53.115243 -27.795077     3  -o-  o--  --o\n",
       "      -68 53.112371 -27.827977     3  -o-  o--  --o\n",
       "      -67 53.115348 -27.795815     3  -o-  o--  --o\n",
       "      -66 53.114818 -27.801942     3  -o-  o--  --o\n",
       "      -65 53.112631 -27.826948     3  -o-  o--  --o\n",
       "      -64 53.112695 -27.832028     3  -o-  o--  --o\n",
       "      -63 53.113053 -27.828911     3  -o-  o--  --o\n",
       "      -62 53.113703 -27.823436     3  -o-  o--  --o\n",
       "      -61 53.112888 -27.835632     3  -o-  o--  --o\n",
       "      ...       ...        ...   ...  ...  ...  ...\n",
       "  2023007 53.182342 -27.783406     3  ---  ---  ---\n",
       "  2023009 53.167601 -27.830414     3  -o-  o--  --o\n",
       "  2023010 53.164408 -27.838797     3  -o-  o--  --o\n",
       "  2023015 53.165332 -27.826838     3  -o-  o--  --o\n",
       "  2023022 53.122990 -27.821135     3   --    -  --o\n",
       "  2023024 53.134843 -27.789041     3  -o-  o--  --o\n",
       "  2023026 53.135280 -27.814521     3  -o-  o--  --o\n",
       "  2023027 53.134852 -27.820901     3  -o-  o--  --o\n",
       "  2023029 53.132112 -27.796808     3  -o-  o--  --o\n",
       "  2023050 53.134192 -27.816431     3   --    -  --o"
      ]
     },
     "execution_count": 1,
     "metadata": {},
     "output_type": "execute_result"
    }
   ],
   "source": [
    "from msaexp import msa\n",
    "\n",
    "meta = msa.MSAMetafile('jw06541001001_01_msa.fits')\n",
    "\n",
    "src_table = meta.make_summary_table(msa_metadata_id=None,\n",
    "                                  image_path=None,\n",
    "                                  write_tables=False)\n",
    "src_table"
   ]
  },
  {
   "cell_type": "markdown",
   "metadata": {},
   "source": [
    "## Write all slits to ds9 region file from `_msa.fits` file."
   ]
  },
  {
   "cell_type": "code",
   "execution_count": 2,
   "metadata": {},
   "outputs": [
    {
     "data": {
      "text/plain": [
       "77910"
      ]
     },
     "execution_count": 2,
     "metadata": {},
     "output_type": "execute_result"
    }
   ],
   "source": [
    "from msaexp import msa\n",
    "from pathlib import Path\n",
    "\n",
    "\n",
    "meta = msa.MSAMetafile('jw06541001001_01_msa.fits')\n",
    "\n",
    "regs = meta.regions_from_metafile(as_string=True, with_bars=True)\n",
    "path = Path('jw06541001001_01_msa.reg')\n",
    "path.write_text(regs)\n"
   ]
  },
  {
   "cell_type": "markdown",
   "metadata": {},
   "source": [
    "## Get ds9 region for a few targets"
   ]
  },
  {
   "cell_type": "code",
   "execution_count": 3,
   "metadata": {},
   "outputs": [],
   "source": [
    "from msaexp import msa\n",
    "\n",
    "def write_Sregion_list(sregion_list, outfile='sregion_list.reg', comment_header=None):\n",
    "    '''\n",
    "    Write a list of Sregion objects to a ds9 region file.\n",
    "    '''\n",
    "    from pathlib import Path\n",
    "\n",
    "    output = ''\n",
    "    if comment_header is not None:\n",
    "        output += f'# {comment_header}\\n'\n",
    "    output += 'icrs\\n'\n",
    "    for sr in sregion_list:\n",
    "        m = sr.meta\n",
    "        if m['is_source']:\n",
    "            output += f\"circle({m['ra']:.7f}, {m['dec']:.7f}, 0.2\\\")\"\n",
    "            output += f\" # color=cyan text=xx{m['source_id']}yy\\n\"\n",
    "        for r in sr.region:\n",
    "            output += r + '\\n'\n",
    "    output = output.replace('xx','{').replace('yy', '}')\n",
    "    path = Path(outfile)\n",
    "    path.write_text(output)\n",
    "    return\n",
    "\n",
    "def select_target_region(meta, target_id_list, savefile=None, with_bars=True, msa_metadata_id=1, dither_point_index=1):\n",
    "    '''\n",
    "    Select the regions for a given list of target id.\n",
    "    '''\n",
    "    regs = meta.regions_from_metafile(as_string=False, with_bars=with_bars, msa_metadata_id=msa_metadata_id, dither_point_index=dither_point_index)\n",
    "    reg_target = [reg for reg in regs if reg.meta['source_id'] in target_id_list]\n",
    "\n",
    "    if savefile is not None:\n",
    "        comment_header = f'# msametfl = {meta.metafile}\\n'\n",
    "        di = dither_point_index\n",
    "        comment_header += f'# dither_point_index = {di}\\n'\n",
    "        mi = msa_metadata_id\n",
    "        comment_header += f'# msa_metadata_id = {mi}\\n'\n",
    "        target_ids_str = ','.join([str(i) for i in target_id_list])\n",
    "        comment_header += f'# target_id = {target_ids_str}\\n'\n",
    "        write_Sregion_list(reg_target, outfile=savefile, comment_header=comment_header)\n",
    "\n",
    "    return reg_target\n",
    "\n",
    "\n",
    "meta = msa.MSAMetafile('jw06541001001_01_msa.fits')\n",
    "regs = select_target_region(meta, [202892, 2023024], savefile='target_test.reg')\n",
    "\n"
   ]
  },
  {
   "cell_type": "code",
   "execution_count": 4,
   "metadata": {},
   "outputs": [
    {
     "name": "stdout",
     "output_type": "stream",
     "text": [
      "53.1679177 -27.79803120000003\n"
     ]
    }
   ],
   "source": [
    "# Plot the slit region on a cutout image\n",
    "\n",
    "from astropy.io import fits\n",
    "import numpy as np\n",
    "from astropy.nddata.utils import Cutout2D\n",
    "from astropy.wcs import WCS\n",
    "from astropy.coordinates import SkyCoord\n",
    "from astropy import units as u\n",
    "import matplotlib.pyplot as plt\n",
    "\n",
    "\n",
    "with fits.open('cutout.fits') as hdulist:\n",
    "    img = hdulist[0].data\n",
    "    header = hdulist[0].header\n",
    "\n",
    "ix = np.where(src_table['source_id'] == 202892)[0][0]\n",
    "ra = src_table['ra'][ix]\n",
    "dec = src_table['dec'][ix]\n",
    "cutout_size = 2 # arcsec in radius\n",
    "print(ra, dec)\n",
    "\n",
    "hdu_crop = Cutout2D(img, position=SkyCoord(ra, dec, unit='deg'), size=2*cutout_size*u.arcsec, wcs=WCS(header))\n",
    "img_crop = hdu_crop.data"
   ]
  },
  {
   "cell_type": "code",
   "execution_count": 5,
   "metadata": {},
   "outputs": [
    {
     "data": {
      "text/plain": [
       "(-27.798586755555583, -27.797475644444475)"
      ]
     },
     "execution_count": 5,
     "metadata": {},
     "output_type": "execute_result"
    },
    {
     "data": {
      "image/png": "[encoded data removed]",
      "text/plain": [
       "<Figure size 600x600 with 1 Axes>"
      ]
     },
     "metadata": {},
     "output_type": "display_data"
    }
   ],
   "source": [
    "# Plot the slit region\n",
    "\n",
    "cosd = np.cos(dec/180*np.pi)\n",
    "\n",
    "fig, ax = plt.subplots(1, 1, figsize=(6,6), dpi=100)\n",
    "\n",
    "extent = (ra + cutout_size/3600/cosd, ra - cutout_size/3600./cosd,\n",
    "                      dec - cutout_size/3600., dec + cutout_size/3600.)\n",
    "\n",
    "ax.imshow(img_crop, origin='lower', cmap='gray_r', vmin=0, vmax=0.1, extent=extent)\n",
    "ax.scatter(src_table['ra'], src_table['dec'], marker='o', fc='None', ec='r', alpha=1)\n",
    "for s in regs:\n",
    "    if s.meta['is_source']:\n",
    "        kws = dict(color='r', alpha=0.8, zorder=100)\n",
    "    else:\n",
    "        kws = dict(color='blue', alpha=0.8, zorder=100)\n",
    "\n",
    "    ax.plot(*np.vstack([s.xy[0], s.xy[0][:1,:]]).T, **kws)\n",
    "\n",
    "\n",
    "ax.xaxis.set_major_formatter('{x:.4f}')\n",
    "ax.yaxis.set_major_formatter('{x:.4f}')\n",
    "step = int(np.floor(cutout_size))\n",
    "xt = np.array([-step, -step/2, 0, step/2, step])/3600./cosd + ra\n",
    "yt = np.array([-step, -step/2, 0, step/2, step])/3600. + dec\n",
    "ax.set_xticks(xt)\n",
    "ax.set_yticks(yt)\n",
    "ax.set_yticklabels([f'-{step}\"', '', 'Decl.', '', f'+{step}\"'])\n",
    "ax.set_xticklabels([f'+{step}\"', '', 'R.A.', '', f'-{step}\"'])\n",
    "ax.set_xlim(ra + np.array([cutout_size,-cutout_size])/3600./cosd)\n",
    "ax.set_ylim(dec + np.array([-cutout_size,cutout_size])/3600.)"
   ]
  }
 ],
 "metadata": {
  "kernelspec": {
   "display_name": "base",
   "language": "python",
   "name": "python3"
  },
  "language_info": {
   "codemirror_mode": {
    "name": "ipython",
    "version": 3
   },
   "file_extension": ".py",
   "mimetype": "text/x-python",
   "name": "python",
   "nbconvert_exporter": "python",
   "pygments_lexer": "ipython3",
   "version": "3.9.13"
  }
 },
 "nbformat": 4,
 "nbformat_minor": 2
}
